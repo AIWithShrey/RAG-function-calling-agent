{
 "cells": [
  {
   "cell_type": "markdown",
   "metadata": {},
   "source": [
    "# Using the Retrieval Augmented Generation (RAG) Framework to contextualize the response of a chatbot.\n"
   ]
  },
  {
   "cell_type": "markdown",
   "metadata": {},
   "source": [
    "## Imports\n"
   ]
  },
  {
   "cell_type": "code",
   "execution_count": 1,
   "metadata": {},
   "outputs": [],
   "source": [
    "from dotenv import find_dotenv, load_dotenv\n",
    "from langchain_google_genai import ChatGoogleGenerativeAI, GoogleGenerativeAIEmbeddings\n",
    "from langchain_elasticsearch.vectorstores import ElasticsearchStore\n",
    "from langchain_community.document_loaders import PyPDFLoader\n",
    "from langchain_text_splitters import RecursiveCharacterTextSplitter\n",
    "from langchain_core.messages import HumanMessage\n",
    "from langchain.chains import create_history_aware_retriever\n",
    "from langchain.chains import RetrievalQA\n",
    "from langchain_core.prompts import ChatPromptTemplate, MessagesPlaceholder\n",
    "from langchain.chains import create_retrieval_chain\n",
    "from langchain_core.tools import tool\n",
    "from langchain.chains.combine_documents import create_stuff_documents_chain\n",
    "from langchain.agents import  AgentExecutor, create_react_agent\n",
    "from langchain_community.tools.tavily_search import TavilySearchResults\n",
    "from langchain_core.prompts import PromptTemplate\n",
    "from langchain import hub"
   ]
  },
  {
   "cell_type": "code",
   "execution_count": 5,
   "metadata": {},
   "outputs": [
    {
     "data": {
      "text/plain": [
       "True"
      ]
     },
     "execution_count": 5,
     "metadata": {},
     "output_type": "execute_result"
    }
   ],
   "source": [
    "load_dotenv(find_dotenv(), override=True)"
   ]
  },
  {
   "cell_type": "markdown",
   "metadata": {},
   "source": [
    "## VectorDB setup and add embeddings to vector db\n"
   ]
  },
  {
   "cell_type": "code",
   "execution_count": 11,
   "metadata": {},
   "outputs": [],
   "source": [
    "loader = PyPDFLoader(\"MG_Manual.pdf\")#, extract_images=True)\n",
    "documents = loader.load()\n",
    "text_splitter = RecursiveCharacterTextSplitter(chunk_size=1024,\n",
    "                                      chunk_overlap=512,\n",
    "                                      length_function=len,\n",
    "                                      is_separator_regex=False,\n",
    "                                      )\n",
    "\n",
    "docs = text_splitter.split_documents(documents)"
   ]
  },
  {
   "cell_type": "code",
   "execution_count": 12,
   "metadata": {},
   "outputs": [
    {
     "data": {
      "text/plain": [
       "ObjectApiResponse({'_shards': {'total': 2, 'successful': 1, 'failed': 0}})"
      ]
     },
     "execution_count": 12,
     "metadata": {},
     "output_type": "execute_result"
    }
   ],
   "source": [
    "embedding = GoogleGenerativeAIEmbeddings(model=\"models/embedding-001\")\n",
    "#embedding = OpenAIEmbeddings(model=\"text-embedding-ada-002\")\n",
    "vector_db = ElasticsearchStore.from_documents(\n",
    "    docs,\n",
    "    es_url=\"http://localhost:9200\",\n",
    "    index_name=\"manual\",\n",
    "    embedding=embedding\n",
    ")\n",
    "\n",
    "vector_db.client.indices.refresh(index=\"manual\")"
   ]
  },
  {
   "cell_type": "markdown",
   "metadata": {},
   "source": [
    "## Connecting vector db to LLM\n"
   ]
  },
  {
   "cell_type": "code",
   "execution_count": 14,
   "metadata": {},
   "outputs": [],
   "source": [
    "retriever = vector_db.as_retriever()\n"
   ]
  },
  {
   "cell_type": "code",
   "execution_count": 15,
   "metadata": {},
   "outputs": [],
   "source": [
    "def format_docs(docs):\n",
    "    return \"\\n\\n\".join(doc.page_content for doc in docs)"
   ]
  },
  {
   "cell_type": "code",
   "execution_count": 16,
   "metadata": {},
   "outputs": [],
   "source": [
    "#llm = ChatOpenAI(name=\"gpt-4o\",\n",
    "#                 temperature=0)\n",
    "\n",
    "llm = ChatGoogleGenerativeAI(model=\"gemini-1.5-pro\")"
   ]
  },
  {
   "cell_type": "code",
   "execution_count": 17,
   "metadata": {},
   "outputs": [],
   "source": [
    "contextualize_q_system_prompt = \"\"\"Given a chat history and the latest user question \\\n",
    "which might reference context in the chat history, formulate a standalone question \\\n",
    "which can be understood without the chat history. Do NOT answer the question, \\\n",
    "just reformulate it if needed and otherwise return it as is.\"\"\"\n",
    "contextualize_q_prompt = ChatPromptTemplate.from_messages(\n",
    "    [\n",
    "        (\"system\", contextualize_q_system_prompt),\n",
    "        MessagesPlaceholder(\"chat_history\"),\n",
    "        (\"human\", \"{input}\"),\n",
    "    ]\n",
    ")\n",
    "history_aware_retriever = create_history_aware_retriever(\n",
    "    llm, retriever, contextualize_q_prompt\n",
    ")\n",
    "\n",
    "qa_system_prompt = \"\"\"You are an assistant for question-answering tasks. \\\n",
    "Use the following pieces of retrieved context to answer the question. \\\n",
    "Keep your answers short and concise.\\\n",
    "\n",
    "{context}\"\"\"\n",
    "qa_prompt = ChatPromptTemplate.from_messages(\n",
    "    [\n",
    "        #(\"system\", qa_system_prompt),\n",
    "        (\"system\", \"{context}\"),\n",
    "        MessagesPlaceholder(\"chat_history\"),\n",
    "        (\"human\", \"{input}\"),\n",
    "    ]\n",
    ")\n",
    "\n",
    "question_answer_chain = create_stuff_documents_chain(llm, qa_prompt)\n",
    "\n",
    "rag_chain = create_retrieval_chain(history_aware_retriever, question_answer_chain)"
   ]
  },
  {
   "cell_type": "code",
   "execution_count": 18,
   "metadata": {},
   "outputs": [
    {
     "name": "stdout",
     "output_type": "stream",
     "text": [
      "This is a Table of Contents from a **vehicle manual**.  It covers topics like:\n",
      "\n",
      "* **Tyre Maintenance:** How to check tread wear, rotate tyres, and information about winter tyres and chains.\n",
      "* **Spare Tyre and Tools:**  Explains how to use the jack, where the lifting points are, and how to change a tyre.\n",
      "* **Emergency Procedures:**  Includes instructions for jump-starting a dead battery, getting better traction in difficult conditions, and what to do if the vehicle gets trapped. \n",
      "* **Vehicle Care:**  Covers recommended cleaning agents and basic interior maintenance. \n",
      "\n",
      "Essentially, this manual seems to focus on the practical aspects of owning and maintaining the vehicle, especially in everyday situations and emergencies. \n",
      "\n",
      "You got it! It seems like a manual focused on the practical side of vehicle ownership, particularly emphasizing: \n",
      "\n",
      "* **Keeping the vehicle running:** Tyre care, changing a tyre, jump starting.\n",
      "* **Handling common emergencies:**  Traction problems, getting stuck.\n",
      "* **Basic upkeep:** Cleaning and simple maintenance. \n",
      "\n",
      "It's likely a good resource for new car owners or those who want a quick reference guide for essential car care. \n",
      "\n",
      "You're absolutely right! That's a great summary of what this manual seems to be about. It sounds like a handy guide to have on hand for any car owner. \n",
      "\n"
     ]
    }
   ],
   "source": [
    "chat_history = []\n",
    "\n",
    "i = 0\n",
    "while i < 3:\n",
    "    question = input(\"Ask a question\")\n",
    "    response = rag_chain.invoke({\"input\":question, \"chat_history\":chat_history})\n",
    "    chat_history.extend([HumanMessage(content=question), response[\"answer\"]])\n",
    "    print(response[\"answer\"])\n",
    "    i += 1\n"
   ]
  },
  {
   "cell_type": "markdown",
   "metadata": {},
   "source": [
    "# Extending to Function Calling\n"
   ]
  },
  {
   "cell_type": "markdown",
   "metadata": {},
   "source": [
    "## Setup Vector DB search retrieval as a tool.\n"
   ]
  },
  {
   "cell_type": "code",
   "execution_count": 19,
   "metadata": {},
   "outputs": [],
   "source": [
    "qa = RetrievalQA.from_chain_type(\n",
    "    llm=llm,\n",
    "    chain_type=\"stuff\",\n",
    "    retriever=retriever,\n",
    "    return_source_documents=True,\n",
    ")"
   ]
  },
  {
   "cell_type": "code",
   "execution_count": 20,
   "metadata": {},
   "outputs": [],
   "source": [
    "@tool\n",
    "def query_manual(query):\n",
    "    \"\"\"\n",
    "    Queries the manual and retrieves information from its contents. \n",
    "    Returns the result and the source documents.\n",
    "\n",
    "    Args:\n",
    "        query (string): A query derived from the question asked by the user.\n",
    "    \"\"\"\n",
    "    result = qa.invoke(query)\n",
    "    return result['result'], result['source_documents']"
   ]
  },
  {
   "cell_type": "code",
   "execution_count": 21,
   "metadata": {},
   "outputs": [],
   "source": [
    "from langchain import hub\n",
    "\n",
    "template = \"\"\"\n",
    "You are an assistant that answers questions on the manual provided.\n",
    "Use the tools provided to respond accurately. \n",
    "The query_manual tool should be used to retrieve information from the manual.\n",
    "\n",
    "For questions that require further information, use the tavily_search_tool_json tool to conduct research and respond\n",
    "with accurate answers.\n",
    "\n",
    "Question: {input}\n",
    "\"\"\"\n",
    "\n",
    "prompt_template = PromptTemplate.from_template(template=template)\n",
    "\n",
    "agentprompt = hub.pull(\"hwchase17/react-chat\")\n",
    "\n",
    "tools = [query_manual, TavilySearchResults(max_results=3)]\n",
    "\n",
    "agent = create_react_agent(llm=llm,\n",
    "                           tools=tools,\n",
    "                           prompt=agentprompt)\n",
    "\n",
    "agent_executor = AgentExecutor(agent=agent,\n",
    "                               tools=tools,\n",
    "                               handle_parsing_errors=True,\n",
    "                               verbose=True)"
   ]
  },
  {
   "cell_type": "code",
   "execution_count": 23,
   "metadata": {},
   "outputs": [
    {
     "name": "stdout",
     "output_type": "stream",
     "text": [
      "input_variables=['agent_scratchpad', 'chat_history', 'input', 'tool_names', 'tools'] metadata={'lc_hub_owner': 'hwchase17', 'lc_hub_repo': 'react-chat', 'lc_hub_commit_hash': '3ecd5f710db438a9cf3773c57d6ac8951eefd2cd9a9b2a0026a65a0893b86a6e'} template='Assistant is a large language model trained by OpenAI.\\n\\nAssistant is designed to be able to assist with a wide range of tasks, from answering simple questions to providing in-depth explanations and discussions on a wide range of topics. As a language model, Assistant is able to generate human-like text based on the input it receives, allowing it to engage in natural-sounding conversations and provide responses that are coherent and relevant to the topic at hand.\\n\\nAssistant is constantly learning and improving, and its capabilities are constantly evolving. It is able to process and understand large amounts of text, and can use this knowledge to provide accurate and informative responses to a wide range of questions. Additionally, Assistant is able to generate its own text based on the input it receives, allowing it to engage in discussions and provide explanations and descriptions on a wide range of topics.\\n\\nOverall, Assistant is a powerful tool that can help with a wide range of tasks and provide valuable insights and information on a wide range of topics. Whether you need help with a specific question or just want to have a conversation about a particular topic, Assistant is here to assist.\\n\\nTOOLS:\\n------\\n\\nAssistant has access to the following tools:\\n\\n{tools}\\n\\nTo use a tool, please use the following format:\\n\\n```\\nThought: Do I need to use a tool? Yes\\nAction: the action to take, should be one of [{tool_names}]\\nAction Input: the input to the action\\nObservation: the result of the action\\n```\\n\\nWhen you have a response to say to the Human, or if you do not need to use a tool, you MUST use the format:\\n\\n```\\nThought: Do I need to use a tool? No\\nFinal Answer: [your response here]\\n```\\n\\nBegin!\\n\\nPrevious conversation history:\\n{chat_history}\\n\\nNew input: {input}\\n{agent_scratchpad}'\n"
     ]
    }
   ],
   "source": [
    "print(agentprompt)"
   ]
  },
  {
   "cell_type": "code",
   "execution_count": 24,
   "metadata": {},
   "outputs": [
    {
     "name": "stdout",
     "output_type": "stream",
     "text": [
      "\n",
      "\n",
      "\u001b[1m> Entering new AgentExecutor chain...\u001b[0m\n",
      "\u001b[32;1m\u001b[1;3mThought: Do I need to use a tool? Yes\n",
      "Action: query_manual\n",
      "Action Input: What is this manual about?\u001b[0m\u001b[36;1m\u001b[1;3m('The manual seems to be about car maintenance. \\n', [Document(page_content='ŸMaintenance ............................................168\\nŸInternal Tread Wear Indicator ...........169\\nŸTyre Rotation ..........................................170\\nŸWinter Tyres ..........................................170\\nŸTyre Chain ...............................................170\\n Spare Tyre, Jack and Tools ................171\\nŸTool Kit ....................................................171\\nŸSpare Tyre ...............................................171\\nŸJack Lifting Point .....................................171\\nŸTyre Replacement ..................................172\\n Jump Start (Dead Battery) ................174\\n Vehicle Traction ..................................176\\nŸEmergency Trailer ..................................177 Getting Vehicle Out of Trap ..............179\\n Vehicle Maintenance...........................179\\nŸCleaning Agent .......................................179\\nŸVehicle Interior Maintenance \\nand Cleaning ............................................180', metadata={'source': 'MG_Manual.pdf', 'page': 154}), Document(page_content='ŸMaintenance ............................................168\\nŸInternal Tread Wear Indicator ...........169\\nŸTyre Rotation ..........................................170\\nŸWinter Tyres ..........................................170\\nŸTyre Chain ...............................................170\\n Spare Tyre, Jack and Tools ................171\\nŸTool Kit ....................................................171\\nŸSpare Tyre ...............................................171\\nŸJack Lifting Point .....................................171\\nŸTyre Replacement ..................................172\\n Jump Start (Dead Battery) ................174\\n Vehicle Traction ..................................176\\nŸEmergency Trailer ..................................177 Getting Vehicle Out of Trap ..............179\\n Vehicle Maintenance...........................179\\nŸCleaning Agent .......................................179\\nŸVehicle Interior Maintenance \\nand Cleaning ............................................180', metadata={'source': 'MG_Manual.pdf', 'page': 155}), Document(page_content='ŸTyre Replacement ..................................172\\n Jump Start (Dead Battery) ................174\\n Vehicle Traction ..................................176\\nŸEmergency Trailer ..................................177 Getting Vehicle Out of Trap ..............179\\n Vehicle Maintenance...........................179\\nŸCleaning Agent .......................................179\\nŸVehicle Interior Maintenance \\nand Cleaning ............................................180\\nŸGlass Surface ...........................................180\\nŸVehicle Exterior Maintenance \\nand Cleaning ............................................181\\nŸCorrosion Prevention ..........................182', metadata={'source': 'MG_Manual.pdf', 'page': 154}), Document(page_content='ŸTyre Replacement ..................................172\\n Jump Start (Dead Battery) ................174\\n Vehicle Traction ..................................176\\nŸEmergency Trailer ..................................177 Getting Vehicle Out of Trap ..............179\\n Vehicle Maintenance...........................179\\nŸCleaning Agent .......................................179\\nŸVehicle Interior Maintenance \\nand Cleaning ............................................180\\nŸGlass Surface ...........................................180\\nŸVehicle Exterior Maintenance \\nand Cleaning ............................................181\\nŸCorrosion Prevention ..........................182', metadata={'source': 'MG_Manual.pdf', 'page': 155})])\u001b[0m\u001b[32;1m\u001b[1;3mDo I need to use a tool? No\n",
      "Final Answer: This manual appears to be about car maintenance. \n",
      "\u001b[0m\n",
      "\n",
      "\u001b[1m> Finished chain.\u001b[0m\n",
      "This manual appears to be about car maintenance.\n",
      "\n",
      "\n",
      "\u001b[1m> Entering new AgentExecutor chain...\u001b[0m\n",
      "\u001b[32;1m\u001b[1;3mThought: Do I need to use a tool? Yes\n",
      "Action: query_manual\n",
      "Action Input: What car model is mentioned in the manual?\u001b[0m\u001b[36;1m\u001b[1;3m('The provided text does not mention a specific car model. \\n', [Document(page_content='ŸInstrument Panel Central \\nStorage Box ...............................................50\\nŸArmrest Storage Box ..............................50\\nŸGlasses Box* ..............................................50\\nŸConsole Storage Box* .............................51\\nŸGlove Box ..................................................51\\nŸSeat Pocket ................................................51\\nŸCup Holder ................................................51\\nŸDoor Storage Groove and Armrest ....52\\nŸRear Side Wall Storage \\nGroove and Armrest ...............................52\\nŸBackrest Hook ..........................................52\\nŸLuggage Compartment \\nCargo Cover* ............................................53\\n Roof Rail .................................................54\\nŸLoad Information ......................................54', metadata={'source': 'MG_Manual.pdf', 'page': 50}), Document(page_content='ŸInstrument Panel Central \\nStorage Box ...............................................50\\nŸArmrest Storage Box ..............................50\\nŸGlasses Box* ..............................................50\\nŸConsole Storage Box* .............................51\\nŸGlove Box ..................................................51\\nŸSeat Pocket ................................................51\\nŸCup Holder ................................................51\\nŸDoor Storage Groove and Armrest ....52\\nŸRear Side Wall Storage \\nGroove and Armrest ...............................52\\nŸBackrest Hook ..........................................52\\nŸLuggage Compartment \\nCargo Cover* ............................................53\\n Roof Rail .................................................54\\nŸLoad Information ......................................54', metadata={'source': 'MG_Manual.pdf', 'page': 51}), Document(page_content='ŸSeat Pocket ................................................51\\nŸCup Holder ................................................51\\nŸDoor Storage Groove and Armrest ....52\\nŸRear Side Wall Storage \\nGroove and Armrest ...............................52\\nŸBackrest Hook ..........................................52\\nŸLuggage Compartment \\nCargo Cover* ............................................53\\n Roof Rail .................................................54\\nŸLoad Information ......................................54\\nInstruments and Controls ..................55-98\\n Instrument Panel ..................................56\\n Controls .................................................57\\nŸHorn ............................................................57\\nŸSteering Wheel Adjustment* .................58\\nŸFront Windshield Wiper and             \\nWasher* .....................................................58\\nŸRear Windshield Wiper and      \\nWasher* ....................................................59\\nŸExterior Entertainment', metadata={'source': 'MG_Manual.pdf', 'page': 6}), Document(page_content='ŸSeat Pocket ................................................51\\nŸCup Holder ................................................51\\nŸDoor Storage Groove and Armrest ....52\\nŸRear Side Wall Storage \\nGroove and Armrest ...............................52\\nŸBackrest Hook ..........................................52\\nŸLuggage Compartment \\nCargo Cover* ............................................53\\n Roof Rail .................................................54\\nŸLoad Information ......................................54\\nInstruments and Controls ..................55-98\\n Instrument Panel ..................................56\\n Controls .................................................57\\nŸHorn ............................................................57\\nŸSteering Wheel Adjustment* .................58\\nŸFront Windshield Wiper and             \\nWasher* .....................................................58\\nŸRear Windshield Wiper and      \\nWasher* ....................................................59\\nŸExterior Entertainment', metadata={'source': 'MG_Manual.pdf', 'page': 7})])\u001b[0m\u001b[32;1m\u001b[1;3mThought: Do I need to use a tool? No\n",
      "Final Answer: The manual does not specify a car model. \n",
      "\u001b[0m\n",
      "\n",
      "\u001b[1m> Finished chain.\u001b[0m\n",
      "The manual does not specify a car model.\n",
      "\n",
      "\n",
      "\u001b[1m> Entering new AgentExecutor chain...\u001b[0m\n",
      "\u001b[32;1m\u001b[1;3mThought: Do I need to use a tool? Yes\n",
      "Action: tavily_search_results_json\n",
      "Action Input: MG Hector price in Hyderabad today \u001b[0m\u001b[33;1m\u001b[1;3m[{'url': 'https://www.carwale.com/mg-cars/hector/price-in-hyderabad/', 'content': 'The MG Hector Price in Hyderabad starts from Rs. 17.26 Lakh and goes upto Rs. 27.72 Lakh. Hector is a SUV, offered with a choice of 1451 cc Petrol and 1956 cc Diesel engine options. The Hector on ...'}, {'url': 'https://www.cardekho.com/mg/hector/price-in-hyderabad', 'content': 'The lowest price model is MG Hector 1.5 Turbo Style and the top model price is MG Hector BlackStorm Diesel priced at ₹ 22.24 Lakh. Used MG Hector in Hyderabad available for sale at ₹ 13.50 ...'}, {'url': 'https://dealers.mgmotor.co.in/mg-car-price/mg-hector-price-in-hyderabad', 'content': 'Plot No. 2 & 4 Block B MM Plaza Kukatpally Y Junction Metro Pillar No: A872, Hyderabad, Telangana - 500048. Sales. +91 7799935258. Visit Website. MG Hector 2024 - Official car price in Hyderabad starting @ ₹ 13.98 lakhs*. Get price details for variants of the MG Hector 2024 across all dealers in Hyderabad and grab the best deals possible.'}]\u001b[0m\u001b[32;1m\u001b[1;3mThought: Do I need to use a tool? No\n",
      "Final Answer: The MG Hector price in Hyderabad starts from ₹ 13.98 lakhs. \n",
      "\u001b[0m\n",
      "\n",
      "\u001b[1m> Finished chain.\u001b[0m\n",
      "The MG Hector price in Hyderabad starts from ₹ 13.98 lakhs.\n"
     ]
    }
   ],
   "source": [
    "chat_history = []\n",
    "\n",
    "i = 0\n",
    "while i < 3:\n",
    "    question = input(\"Ask a question\")\n",
    "    response = agent_executor.invoke({\"input\":prompt_template.format(input=question), \"chat_history\": chat_history})\n",
    "    chat_history.extend({\"user\": question, \"ai\": response[\"output\"]})\n",
    "    print(response['output'])\n",
    "    i += 1"
   ]
  },
  {
   "cell_type": "code",
   "execution_count": null,
   "metadata": {},
   "outputs": [],
   "source": []
  },
  {
   "cell_type": "code",
   "execution_count": null,
   "metadata": {},
   "outputs": [],
   "source": []
  }
 ],
 "metadata": {
  "kernelspec": {
   "display_name": "Google-AI",
   "language": "python",
   "name": "python3"
  },
  "language_info": {
   "codemirror_mode": {
    "name": "ipython",
    "version": 3
   },
   "file_extension": ".py",
   "mimetype": "text/x-python",
   "name": "python",
   "nbconvert_exporter": "python",
   "pygments_lexer": "ipython3",
   "version": "3.10.13"
  }
 },
 "nbformat": 4,
 "nbformat_minor": 2
}
